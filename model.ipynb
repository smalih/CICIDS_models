{
 "cells": [
  {
   "cell_type": "code",
   "execution_count": 2,
   "metadata": {},
   "outputs": [],
   "source": [
    "import os\n",
    "import logging\n",
    "import pandas as pd\n",
    "import numpy as np\n",
    "import matplotlib.pyplot as plt\n",
    "import tensorflow as tf\n",
    "\n",
    "import joblib \n",
    "\n",
    "from sklearn.preprocessing import LabelEncoder, MinMaxScaler\n",
    "from sklearn.model_selection import train_test_split\n",
    "from sklearn.metrics import classification_report\n",
    "\n",
    "from tensorflow.keras.callbacks import ModelCheckpoint\n",
    "from tensorflow.keras.utils import plot_model\n",
    "import tensorflow.keras as keras\n",
    "\n",
    "# Log setting\n",
    "logging.basicConfig(format=\"%(asctime)s %(levelname)s %(message)s\", datefmt=\"%H:%M:%S\", level=logging.INFO)\n",
    "\n",
    "# Change display.max_rows to show all features.\n",
    "pd.set_option(\"display.max_rows\", 85)"
   ]
  },
  {
   "cell_type": "code",
   "execution_count": 6,
   "metadata": {},
   "outputs": [],
   "source": [
    "MODEL_DIR_PATH = \"/Users/smalih/CICIDS_models/my_model\"\n",
    "DATASET_PATH = \"/Users/smalih/CICIDS_models/dataset/dataset.csv\"\n",
    "PROCESSED_DIR_PATH = \"/Users/smalih/CICIDS_models/processed_dataset\""
   ]
  },
  {
   "cell_type": "code",
   "execution_count": 7,
   "metadata": {},
   "outputs": [],
   "source": [
    "def _label_encoding() -> LabelEncoder:\n",
    "    # Create Label Encoder\n",
    "    le = LabelEncoder()\n",
    "\n",
    "    # Read Label column from all dataset files\n",
    "    labels = pd.read_csv(DATASET_PATH, usecols=['Label'], skipinitialspace=True)\n",
    "    print(f\"labels: {labels}\")\n",
    "    # Fit the labels data to Label Encoder\n",
    "    le.fit(labels.Label)\n",
    "\n",
    "    # Saving the label encoder\n",
    "    print(PROCESSED_DIR_PATH)\n",
    "    print(le)\n",
    "\n",
    "    np.save(os.path.join(PROCESSED_DIR_PATH, 'label_encoder.npy'), le.classes_)\n",
    "\n",
    "    # Log the result.\n",
    "    logging.info(\"Total rows: {}\".format(labels.shape))\n",
    "    logging.info(\"Class distribution:\\n{}\\n\".format(labels.Label.value_counts()))\n",
    "\n",
    "    return le\n",
    "\n",
    "\n",
    "def _process(df: pd.DataFrame, le: LabelEncoder) -> (np.ndarray, np.ndarray):\n",
    "    # Label encoding\n",
    "    # print(f\"LE: {le}\")\n",
    "    df.Label = le.transform(df.Label) \n",
    "    # print(f\"df.Label: {df.Label}\")\n",
    "\n",
    "    # below preproc has already been done hence commented out\n",
    "\n",
    "    # Fill NaN with average value of each class in this dataset\n",
    "    nan_rows = df[df.isna().any(axis=1)].shape[0]\n",
    "    logging.info(\"Fill NaN in {} rows with average value of each class.\".format(nan_rows))\n",
    "    df.iloc[:, df.columns != \"Label\"] = df.groupby(\"Label\").transform(lambda x: x.fillna(x.mean()))\n",
    "\n",
    "    # Change inf value with maximum value of each class\n",
    "    inf_rows = df[df.isin([np.inf]).any(axis=1)].shape[0]\n",
    "    logging.info(\"Replace Inf in {} rows with maximum value of each class.\".format(inf_rows))\n",
    "    # Temporary replace inf with NaN\n",
    "    df = df.replace([np.inf], np.nan)\n",
    "    # Replace inf with maximum value of each class in this dataset\n",
    "    df.iloc[:, df.columns != \"Label\"] = df.groupby(\"Label\").transform(lambda x: x.fillna(x.max()))\n",
    "\n",
    "    # Change negative value with minimum positive value of each class\n",
    "    logging.info(\"Replace negative values with minimum value of each class.\")\n",
    "    # Temporary replace negative value with NaN\n",
    "    df[df < 0] = np.nan\n",
    "    # Replace negative value with minimum value of each class in this dataset\n",
    "    df.iloc[:, df.columns != \"Label\"] = df.groupby(\"Label\").transform(lambda x: x.fillna(x.min()))\n",
    "\n",
    "    return df\n",
    "\n",
    "\n",
    "def _split_train_test(df: pd.DataFrame) -> (pd.DataFrame, pd.DataFrame):\n",
    "    # Sampling the dataset\n",
    "    x = df.iloc[:, df.columns != 'Label']\n",
    "    y = df['Label']\n",
    "\n",
    "    x_train, x_test, y_train, y_test = train_test_split(x, y, stratify=y, test_size=0.20,\n",
    "                                                        random_state=np.random.randint(10))\n",
    "\n",
    "    del x, y\n",
    "\n",
    "    train = pd.concat([x_train, y_train], axis=1, sort=False)\n",
    "    test = pd.concat([x_test, y_test], axis=1, sort=False)\n",
    "\n",
    "    return train, test\n",
    "\n",
    "\n",
    "def _to_csv(df: pd.DataFrame, saving_path: str):\n",
    "    # if file does not exist write header\n",
    "    if not os.path.isfile(saving_path):\n",
    "        df.to_csv(saving_path, index=False)\n",
    "    # else it exists so append without writing the header\n",
    "    else:\n",
    "        df.to_csv(saving_path, index=False, mode='a', header=False)\n",
    "\n",
    "\n",
    "def _preprocessing_all(le: LabelEncoder, chunksize=1000000):\n",
    "    # Preprocess all file\n",
    "    for chunk in pd.read_csv(DATASET_PATH, skipinitialspace=True, chunksize=chunksize):\n",
    "\n",
    "        train, test = _split_train_test(_process(chunk, le))\n",
    "        \n",
    "        _to_csv(train, os.path.join(PROCESSED_DIR_PATH, \"train.csv\"))\n",
    "        _to_csv(test, os.path.join(PROCESSED_DIR_PATH, \"test.csv\"))\n",
    "     "
   ]
  },
  {
   "cell_type": "code",
   "execution_count": 8,
   "metadata": {},
   "outputs": [],
   "source": [
    "\n",
    "def create_cnn_model() -> keras.Model:\n",
    "    # Creating layers\n",
    "    inputs = keras.layers.Input(shape=(7, 7, 1)) # changed (9, 9, 1) to (7, 7, 1) as 48 features now\n",
    "    x = keras.layers.Conv2D(120, 2, activation='relu', padding=\"same\")(inputs)\n",
    "    x = keras.layers.Conv2D(60, 3, activation='relu', padding=\"same\")(x)\n",
    "    x = keras.layers.Conv2D(30, 4, activation='relu', padding=\"same\")(x)\n",
    "    x = keras.layers.Flatten()(x)\n",
    "    outputs = keras.layers.Dense(15, activation='softmax')(x)\n",
    "    cnn_model = keras.Model(inputs=inputs, outputs=outputs, name='cnn')\n",
    "\n",
    "    # Compile layers\n",
    "    cnn_model.compile(loss='sparse_categorical_crossentropy',\n",
    "                      metrics=['sparse_categorical_accuracy'],\n",
    "                      optimizer='adam')\n",
    "\n",
    "    return cnn_model"
   ]
  },
  {
   "cell_type": "code",
   "execution_count": null,
   "metadata": {},
   "outputs": [],
   "source": []
  },
  {
   "cell_type": "code",
   "execution_count": 9,
   "metadata": {},
   "outputs": [
    {
     "name": "stderr",
     "output_type": "stream",
     "text": [
      "13:03:21 INFO Total rows: (5491120, 1)\n",
      "13:03:21 INFO Class distribution:\n",
      "Label\n",
      "BENIGN                      4378008\n",
      "DoS Hulk                     462146\n",
      "PortScan                     317860\n",
      "DDoS                         256054\n",
      "DoS GoldenEye                 20586\n",
      "FTP-Patator                   15876\n",
      "SSH-Patator                   11794\n",
      "DoS slowloris                 11592\n",
      "DoS Slowhttptest              10998\n",
      "Bot                            3932\n",
      "Web Attack-Brute Force         1507\n",
      "Web Attack-XSS                  652\n",
      "Infiltration                     72\n",
      "Heartbleed                       22\n",
      "Web Attack-Sql Injection         21\n",
      "Name: count, dtype: int64\n",
      "\n"
     ]
    },
    {
     "name": "stdout",
     "output_type": "stream",
     "text": [
      "labels:           Label\n",
      "0        BENIGN\n",
      "1        BENIGN\n",
      "2        BENIGN\n",
      "3        BENIGN\n",
      "4        BENIGN\n",
      "...         ...\n",
      "5491115  BENIGN\n",
      "5491116  BENIGN\n",
      "5491117  BENIGN\n",
      "5491118  BENIGN\n",
      "5491119  BENIGN\n",
      "\n",
      "[5491120 rows x 1 columns]\n",
      "/Users/smalih/CICIDS_models/processed_dataset\n",
      "LabelEncoder()\n",
      "LabelEncoder()\n"
     ]
    }
   ],
   "source": [
    "\n",
    "label_encoder = _label_encoding()\n",
    "print(label_encoder)"
   ]
  },
  {
   "cell_type": "code",
   "execution_count": 10,
   "metadata": {},
   "outputs": [
    {
     "name": "stderr",
     "output_type": "stream",
     "text": [
      "13:03:32 INFO Fill NaN in 0 rows with average value of each class.\n",
      "13:03:38 INFO Replace Inf in 0 rows with maximum value of each class.\n",
      "13:03:43 INFO Replace negative values with minimum value of each class.\n",
      "13:04:28 INFO Fill NaN in 0 rows with average value of each class.\n",
      "13:04:33 INFO Replace Inf in 0 rows with maximum value of each class.\n",
      "13:04:38 INFO Replace negative values with minimum value of each class.\n",
      "13:05:16 INFO Fill NaN in 0 rows with average value of each class.\n",
      "13:05:16 INFO Replace Inf in 0 rows with maximum value of each class.\n",
      "13:05:17 INFO Replace negative values with minimum value of each class.\n"
     ]
    }
   ],
   "source": [
    "_preprocessing_all(label_encoder, 2500000)"
   ]
  },
  {
   "cell_type": "code",
   "execution_count": 11,
   "metadata": {},
   "outputs": [],
   "source": [
    "def preprocessing(df: pd.DataFrame) -> (np.ndarray, np.ndarray):\n",
    "    # Shuffle the dataset\n",
    "    df = df.sample(frac=1)\n",
    "\n",
    "    # Split features and labels\n",
    "    x = df.iloc[:, df.columns != 'Label']\n",
    "    y = df[['Label']].to_numpy()\n",
    "\n",
    "    # Scale the features between 0 ~ 1\n",
    "    scaler = MinMaxScaler()\n",
    "    x = scaler.fit_transform(x)\n",
    "    if not os.path.isfile(os.path.join(MODEL_DIR_PATH, 'x_scaler.pkl')):\n",
    "        joblib.dump(scaler, os.path.join(MODEL_DIR_PATH, 'x_scaler.pkl'))\n",
    "\n",
    "    return x, y\n",
    "\n",
    "\n",
    "def reshape_dataset_cnn(x: np.ndarray) -> np.ndarray:\n",
    "    # Add padding columns\n",
    "    result = np.zeros((x.shape[0], 49)) # changed 81 to 49 as 48 features\n",
    "    result[:, :-1] = x # changed -3 to -1 as only one column is padding\n",
    "\n",
    "    # Reshaping dataset\n",
    "    result = np.reshape(result, (result.shape[0], 7, 7))\n",
    "    result = result[..., tf.newaxis]\n",
    "    return result\n",
    "\n",
    "\n",
    "def plot_history(history: tf.keras.callbacks.History):\n",
    "    # summarize history for accuracy\n",
    "    plt.plot(history.history['sparse_categorical_accuracy'])\n",
    "    plt.plot(history.history['val_sparse_categorical_accuracy'])\n",
    "    plt.title('model2 accuracy')\n",
    "    plt.ylabel('accuracy')\n",
    "    plt.xlabel('epoch')\n",
    "    plt.legend(['train', 'test'], loc='upper left')\n",
    "    plt.show()\n",
    "\n",
    "    # summarize history for loss\n",
    "    plt.plot(history.history['loss'])\n",
    "    plt.plot(history.history['val_loss'])\n",
    "    plt.title('model2 loss')\n",
    "    plt.ylabel('loss')\n",
    "    plt.xlabel('epoch')\n",
    "    plt.legend(['train', 'test'], loc='upper left')\n",
    "    plt.show()\n",
    "\n",
    "\n",
    "def evaluation(model: keras.Model, x_test: np.ndarray, y_test: np.ndarray):\n",
    "    score = model.evaluate(x_test, y_test, verbose=False)\n",
    "    logging.info('Evaluation:\\nLoss: {}\\nAccuracy : {}\\n'.format(score[0], score[1]))\n",
    "\n",
    "    # F1 score\n",
    "    y_pred = model.predict(x_test, batch_size=1024, verbose=False)\n",
    "    y_pred = np.argmax(y_pred, axis=1)\n",
    "\n",
    "    logging.info(\"\\n{}\".format(classification_report(y_test, y_pred)))\n"
   ]
  },
  {
   "cell_type": "code",
   "execution_count": 8,
   "metadata": {},
   "outputs": [
    {
     "data": {
      "text/html": [
       "<pre style=\"white-space:pre;overflow-x:auto;line-height:normal;font-family:Menlo,'DejaVu Sans Mono',consolas,'Courier New',monospace\"><span style=\"font-weight: bold\">Model: \"cnn\"</span>\n",
       "</pre>\n"
      ],
      "text/plain": [
       "\u001b[1mModel: \"cnn\"\u001b[0m\n"
      ]
     },
     "metadata": {},
     "output_type": "display_data"
    },
    {
     "data": {
      "text/html": [
       "<pre style=\"white-space:pre;overflow-x:auto;line-height:normal;font-family:Menlo,'DejaVu Sans Mono',consolas,'Courier New',monospace\">┏━━━━━━━━━━━━━━━━━━━━━━━━━━━━━━━━━┳━━━━━━━━━━━━━━━━━━━━━━━━┳━━━━━━━━━━━━━━━┓\n",
       "┃<span style=\"font-weight: bold\"> Layer (type)                    </span>┃<span style=\"font-weight: bold\"> Output Shape           </span>┃<span style=\"font-weight: bold\">       Param # </span>┃\n",
       "┡━━━━━━━━━━━━━━━━━━━━━━━━━━━━━━━━━╇━━━━━━━━━━━━━━━━━━━━━━━━╇━━━━━━━━━━━━━━━┩\n",
       "│ input_layer (<span style=\"color: #0087ff; text-decoration-color: #0087ff\">InputLayer</span>)        │ (<span style=\"color: #00d7ff; text-decoration-color: #00d7ff\">None</span>, <span style=\"color: #00af00; text-decoration-color: #00af00\">7</span>, <span style=\"color: #00af00; text-decoration-color: #00af00\">7</span>, <span style=\"color: #00af00; text-decoration-color: #00af00\">1</span>)        │             <span style=\"color: #00af00; text-decoration-color: #00af00\">0</span> │\n",
       "├─────────────────────────────────┼────────────────────────┼───────────────┤\n",
       "│ conv2d (<span style=\"color: #0087ff; text-decoration-color: #0087ff\">Conv2D</span>)                 │ (<span style=\"color: #00d7ff; text-decoration-color: #00d7ff\">None</span>, <span style=\"color: #00af00; text-decoration-color: #00af00\">7</span>, <span style=\"color: #00af00; text-decoration-color: #00af00\">7</span>, <span style=\"color: #00af00; text-decoration-color: #00af00\">120</span>)      │           <span style=\"color: #00af00; text-decoration-color: #00af00\">600</span> │\n",
       "├─────────────────────────────────┼────────────────────────┼───────────────┤\n",
       "│ conv2d_1 (<span style=\"color: #0087ff; text-decoration-color: #0087ff\">Conv2D</span>)               │ (<span style=\"color: #00d7ff; text-decoration-color: #00d7ff\">None</span>, <span style=\"color: #00af00; text-decoration-color: #00af00\">7</span>, <span style=\"color: #00af00; text-decoration-color: #00af00\">7</span>, <span style=\"color: #00af00; text-decoration-color: #00af00\">60</span>)       │        <span style=\"color: #00af00; text-decoration-color: #00af00\">64,860</span> │\n",
       "├─────────────────────────────────┼────────────────────────┼───────────────┤\n",
       "│ conv2d_2 (<span style=\"color: #0087ff; text-decoration-color: #0087ff\">Conv2D</span>)               │ (<span style=\"color: #00d7ff; text-decoration-color: #00d7ff\">None</span>, <span style=\"color: #00af00; text-decoration-color: #00af00\">7</span>, <span style=\"color: #00af00; text-decoration-color: #00af00\">7</span>, <span style=\"color: #00af00; text-decoration-color: #00af00\">30</span>)       │        <span style=\"color: #00af00; text-decoration-color: #00af00\">28,830</span> │\n",
       "├─────────────────────────────────┼────────────────────────┼───────────────┤\n",
       "│ flatten (<span style=\"color: #0087ff; text-decoration-color: #0087ff\">Flatten</span>)               │ (<span style=\"color: #00d7ff; text-decoration-color: #00d7ff\">None</span>, <span style=\"color: #00af00; text-decoration-color: #00af00\">1470</span>)           │             <span style=\"color: #00af00; text-decoration-color: #00af00\">0</span> │\n",
       "├─────────────────────────────────┼────────────────────────┼───────────────┤\n",
       "│ dense (<span style=\"color: #0087ff; text-decoration-color: #0087ff\">Dense</span>)                   │ (<span style=\"color: #00d7ff; text-decoration-color: #00d7ff\">None</span>, <span style=\"color: #00af00; text-decoration-color: #00af00\">15</span>)             │        <span style=\"color: #00af00; text-decoration-color: #00af00\">22,065</span> │\n",
       "└─────────────────────────────────┴────────────────────────┴───────────────┘\n",
       "</pre>\n"
      ],
      "text/plain": [
       "┏━━━━━━━━━━━━━━━━━━━━━━━━━━━━━━━━━┳━━━━━━━━━━━━━━━━━━━━━━━━┳━━━━━━━━━━━━━━━┓\n",
       "┃\u001b[1m \u001b[0m\u001b[1mLayer (type)                   \u001b[0m\u001b[1m \u001b[0m┃\u001b[1m \u001b[0m\u001b[1mOutput Shape          \u001b[0m\u001b[1m \u001b[0m┃\u001b[1m \u001b[0m\u001b[1m      Param #\u001b[0m\u001b[1m \u001b[0m┃\n",
       "┡━━━━━━━━━━━━━━━━━━━━━━━━━━━━━━━━━╇━━━━━━━━━━━━━━━━━━━━━━━━╇━━━━━━━━━━━━━━━┩\n",
       "│ input_layer (\u001b[38;5;33mInputLayer\u001b[0m)        │ (\u001b[38;5;45mNone\u001b[0m, \u001b[38;5;34m7\u001b[0m, \u001b[38;5;34m7\u001b[0m, \u001b[38;5;34m1\u001b[0m)        │             \u001b[38;5;34m0\u001b[0m │\n",
       "├─────────────────────────────────┼────────────────────────┼───────────────┤\n",
       "│ conv2d (\u001b[38;5;33mConv2D\u001b[0m)                 │ (\u001b[38;5;45mNone\u001b[0m, \u001b[38;5;34m7\u001b[0m, \u001b[38;5;34m7\u001b[0m, \u001b[38;5;34m120\u001b[0m)      │           \u001b[38;5;34m600\u001b[0m │\n",
       "├─────────────────────────────────┼────────────────────────┼───────────────┤\n",
       "│ conv2d_1 (\u001b[38;5;33mConv2D\u001b[0m)               │ (\u001b[38;5;45mNone\u001b[0m, \u001b[38;5;34m7\u001b[0m, \u001b[38;5;34m7\u001b[0m, \u001b[38;5;34m60\u001b[0m)       │        \u001b[38;5;34m64,860\u001b[0m │\n",
       "├─────────────────────────────────┼────────────────────────┼───────────────┤\n",
       "│ conv2d_2 (\u001b[38;5;33mConv2D\u001b[0m)               │ (\u001b[38;5;45mNone\u001b[0m, \u001b[38;5;34m7\u001b[0m, \u001b[38;5;34m7\u001b[0m, \u001b[38;5;34m30\u001b[0m)       │        \u001b[38;5;34m28,830\u001b[0m │\n",
       "├─────────────────────────────────┼────────────────────────┼───────────────┤\n",
       "│ flatten (\u001b[38;5;33mFlatten\u001b[0m)               │ (\u001b[38;5;45mNone\u001b[0m, \u001b[38;5;34m1470\u001b[0m)           │             \u001b[38;5;34m0\u001b[0m │\n",
       "├─────────────────────────────────┼────────────────────────┼───────────────┤\n",
       "│ dense (\u001b[38;5;33mDense\u001b[0m)                   │ (\u001b[38;5;45mNone\u001b[0m, \u001b[38;5;34m15\u001b[0m)             │        \u001b[38;5;34m22,065\u001b[0m │\n",
       "└─────────────────────────────────┴────────────────────────┴───────────────┘\n"
      ]
     },
     "metadata": {},
     "output_type": "display_data"
    },
    {
     "data": {
      "text/html": [
       "<pre style=\"white-space:pre;overflow-x:auto;line-height:normal;font-family:Menlo,'DejaVu Sans Mono',consolas,'Courier New',monospace\"><span style=\"font-weight: bold\"> Total params: </span><span style=\"color: #00af00; text-decoration-color: #00af00\">116,355</span> (454.51 KB)\n",
       "</pre>\n"
      ],
      "text/plain": [
       "\u001b[1m Total params: \u001b[0m\u001b[38;5;34m116,355\u001b[0m (454.51 KB)\n"
      ]
     },
     "metadata": {},
     "output_type": "display_data"
    },
    {
     "data": {
      "text/html": [
       "<pre style=\"white-space:pre;overflow-x:auto;line-height:normal;font-family:Menlo,'DejaVu Sans Mono',consolas,'Courier New',monospace\"><span style=\"font-weight: bold\"> Trainable params: </span><span style=\"color: #00af00; text-decoration-color: #00af00\">116,355</span> (454.51 KB)\n",
       "</pre>\n"
      ],
      "text/plain": [
       "\u001b[1m Trainable params: \u001b[0m\u001b[38;5;34m116,355\u001b[0m (454.51 KB)\n"
      ]
     },
     "metadata": {},
     "output_type": "display_data"
    },
    {
     "data": {
      "text/html": [
       "<pre style=\"white-space:pre;overflow-x:auto;line-height:normal;font-family:Menlo,'DejaVu Sans Mono',consolas,'Courier New',monospace\"><span style=\"font-weight: bold\"> Non-trainable params: </span><span style=\"color: #00af00; text-decoration-color: #00af00\">0</span> (0.00 B)\n",
       "</pre>\n"
      ],
      "text/plain": [
       "\u001b[1m Non-trainable params: \u001b[0m\u001b[38;5;34m0\u001b[0m (0.00 B)\n"
      ]
     },
     "metadata": {},
     "output_type": "display_data"
    },
    {
     "name": "stderr",
     "output_type": "stream",
     "text": [
      "01:34:03 INFO None\n"
     ]
    }
   ],
   "source": [
    "model = create_cnn_model()\n",
    "logging.info(model.summary())"
   ]
  },
  {
   "cell_type": "code",
   "execution_count": 9,
   "metadata": {},
   "outputs": [
    {
     "name": "stdout",
     "output_type": "stream",
     "text": [
      "You must install graphviz (see instructions at https://graphviz.gitlab.io/download/) for `plot_model` to work.\n"
     ]
    }
   ],
   "source": [
    "plot_model(model, show_shapes=True)"
   ]
  },
  {
   "cell_type": "code",
   "execution_count": 13,
   "metadata": {},
   "outputs": [
    {
     "name": "stderr",
     "output_type": "stream",
     "text": [
      "13:10:07 INFO Class distribution\n",
      "Label\n",
      "0     29796979\n",
      "4      3142586\n",
      "10     2034304\n",
      "2      1638752\n",
      "3       139978\n",
      "7       114309\n",
      "11       82919\n",
      "6        78829\n",
      "5        74783\n",
      "1        25160\n",
      "12        9648\n",
      "14        4176\n",
      "9          456\n",
      "8          153\n",
      "13         136\n",
      "Name: count, dtype: int64\n"
     ]
    }
   ],
   "source": [
    "# cp_path = os.path.join(MODEL_DIR_PATH, \"5_2_cnn_weights-improvement-{epoch:02d}-{val_sparse_categorical_accuracy:.2f}.weight.h5\")\n",
    "# checkpoint = ModelCheckpoint(cp_path, monitor='val_sparse_categorical_accuracy', verbose=1,\n",
    "#                              save_best_only=True, mode='max')\n",
    "# callbacks_list = [checkpoint]\n",
    "\n",
    "# Training\n",
    "df = pd.read_csv(os.path.join(PROCESSED_DIR_PATH, 'train.csv'), skipinitialspace=True)\n",
    "logging.info(\"Class distribution\\n{}\".format(df.Label.value_counts()))"
   ]
  },
  {
   "cell_type": "code",
   "execution_count": null,
   "metadata": {},
   "outputs": [],
   "source": [
    "X, Y = preprocessing(df)\n",
    "del df\n",
    "X = reshape_dataset_cnn(X)\n"
   ]
  },
  {
   "cell_type": "code",
   "execution_count": 12,
   "metadata": {},
   "outputs": [
    {
     "name": "stderr",
     "output_type": "stream",
     "text": [
      "01:38:32 INFO *** TRAINING START ***\n"
     ]
    },
    {
     "name": "stdout",
     "output_type": "stream",
     "text": [
      "Epoch 1/10\n",
      "\u001b[1m28785/28785\u001b[0m \u001b[32m━━━━━━━━━━━━━━━━━━━━\u001b[0m\u001b[37m\u001b[0m \u001b[1m3460s\u001b[0m 120ms/step - loss: 0.0691 - sparse_categorical_accuracy: 0.9756 - val_loss: 0.0130 - val_sparse_categorical_accuracy: 0.9974\n",
      "Epoch 2/10\n",
      "\u001b[1m28785/28785\u001b[0m \u001b[32m━━━━━━━━━━━━━━━━━━━━\u001b[0m\u001b[37m\u001b[0m \u001b[1m3521s\u001b[0m 122ms/step - loss: 0.0098 - sparse_categorical_accuracy: 0.9971 - val_loss: 0.0108 - val_sparse_categorical_accuracy: 0.9980\n",
      "Epoch 3/10\n",
      "\u001b[1m28785/28785\u001b[0m \u001b[32m━━━━━━━━━━━━━━━━━━━━\u001b[0m\u001b[37m\u001b[0m \u001b[1m3531s\u001b[0m 123ms/step - loss: 0.0073 - sparse_categorical_accuracy: 0.9978 - val_loss: 0.0074 - val_sparse_categorical_accuracy: 0.9979\n",
      "Epoch 4/10\n",
      "\u001b[1m28785/28785\u001b[0m \u001b[32m━━━━━━━━━━━━━━━━━━━━\u001b[0m\u001b[37m\u001b[0m \u001b[1m3486s\u001b[0m 121ms/step - loss: 0.0066 - sparse_categorical_accuracy: 0.9980 - val_loss: 0.0067 - val_sparse_categorical_accuracy: 0.9980\n",
      "Epoch 5/10\n",
      "\u001b[1m28785/28785\u001b[0m \u001b[32m━━━━━━━━━━━━━━━━━━━━\u001b[0m\u001b[37m\u001b[0m \u001b[1m3537s\u001b[0m 123ms/step - loss: 0.0061 - sparse_categorical_accuracy: 0.9981 - val_loss: 0.0061 - val_sparse_categorical_accuracy: 0.9982\n",
      "Epoch 6/10\n",
      "\u001b[1m28785/28785\u001b[0m \u001b[32m━━━━━━━━━━━━━━━━━━━━\u001b[0m\u001b[37m\u001b[0m \u001b[1m3477s\u001b[0m 121ms/step - loss: 0.0056 - sparse_categorical_accuracy: 0.9983 - val_loss: 0.0057 - val_sparse_categorical_accuracy: 0.9985\n",
      "Epoch 7/10\n",
      "\u001b[1m28785/28785\u001b[0m \u001b[32m━━━━━━━━━━━━━━━━━━━━\u001b[0m\u001b[37m\u001b[0m \u001b[1m3584s\u001b[0m 124ms/step - loss: 0.0051 - sparse_categorical_accuracy: 0.9985 - val_loss: 0.0061 - val_sparse_categorical_accuracy: 0.9988\n",
      "Epoch 8/10\n",
      "\u001b[1m28785/28785\u001b[0m \u001b[32m━━━━━━━━━━━━━━━━━━━━\u001b[0m\u001b[37m\u001b[0m \u001b[1m3580s\u001b[0m 124ms/step - loss: 0.0047 - sparse_categorical_accuracy: 0.9986 - val_loss: 0.0042 - val_sparse_categorical_accuracy: 0.9988\n",
      "Epoch 9/10\n",
      "\u001b[1m28785/28785\u001b[0m \u001b[32m━━━━━━━━━━━━━━━━━━━━\u001b[0m\u001b[37m\u001b[0m \u001b[1m3591s\u001b[0m 125ms/step - loss: 0.0044 - sparse_categorical_accuracy: 0.9988 - val_loss: 0.0040 - val_sparse_categorical_accuracy: 0.9989\n",
      "Epoch 10/10\n",
      "\u001b[1m28785/28785\u001b[0m \u001b[32m━━━━━━━━━━━━━━━━━━━━\u001b[0m\u001b[37m\u001b[0m \u001b[1m3577s\u001b[0m 124ms/step - loss: 0.0043 - sparse_categorical_accuracy: 0.9988 - val_loss: 0.0042 - val_sparse_categorical_accuracy: 0.9988\n"
     ]
    }
   ],
   "source": [
    "# Training\n",
    "logging.info(\"*** TRAINING START ***\")\n",
    "history = model.fit(X, Y, validation_split=0.1, epochs=10, batch_size=1024, verbose=True)"
   ]
  },
  {
   "cell_type": "code",
   "execution_count": 13,
   "metadata": {},
   "outputs": [
    {
     "name": "stderr",
     "output_type": "stream",
     "text": [
      "11:35:11 INFO *** TRAINING FINISH ***\n"
     ]
    }
   ],
   "source": [
    "logging.info(\"*** TRAINING FINISH ***\")\n",
    "del X, Y"
   ]
  },
  {
   "cell_type": "code",
   "execution_count": 14,
   "metadata": {},
   "outputs": [
    {
     "name": "stderr",
     "output_type": "stream",
     "text": [
      "11:35:32 WARNING You are saving your model as an HDF5 file via `model.save()` or `keras.saving.save_model(model)`. This file format is considered legacy. We recommend using instead the native Keras format, e.g. `model.save('my_model.keras')` or `keras.saving.save_model(model, 'my_model.keras')`. \n"
     ]
    },
    {
     "data": {
      "image/png": "[encoded data removed]",
      "text/plain": [
       "<Figure size 640x480 with 1 Axes>"
      ]
     },
     "metadata": {},
     "output_type": "display_data"
    },
    {
     "data": {
      "image/png": "[encoded data removed]",
      "text/plain": [
       "<Figure size 640x480 with 1 Axes>"
      ]
     },
     "metadata": {},
     "output_type": "display_data"
    }
   ],
   "source": [
    "# Save the model\n",
    "model.save(os.path.join(MODEL_DIR_PATH, \"06_cnn.h5\"))\n",
    "\n",
    "plot_history(history)"
   ]
  },
  {
   "cell_type": "code",
   "execution_count": 1,
   "metadata": {},
   "outputs": [
    {
     "ename": "NameError",
     "evalue": "name 'pd' is not defined",
     "output_type": "error",
     "traceback": [
      "\u001b[0;31m---------------------------------------------------------------------------\u001b[0m",
      "\u001b[0;31mNameError\u001b[0m                                 Traceback (most recent call last)",
      "Cell \u001b[0;32mIn[1], line 1\u001b[0m\n\u001b[0;32m----> 1\u001b[0m df \u001b[38;5;241m=\u001b[39m \u001b[43mpd\u001b[49m\u001b[38;5;241m.\u001b[39mread_csv(os\u001b[38;5;241m.\u001b[39mpath\u001b[38;5;241m.\u001b[39mjoin(PROCESSED_DIR_PATH, \u001b[38;5;124m'\u001b[39m\u001b[38;5;124mtest.csv\u001b[39m\u001b[38;5;124m'\u001b[39m), skipinitialspace\u001b[38;5;241m=\u001b[39m\u001b[38;5;28;01mTrue\u001b[39;00m)\n\u001b[1;32m      2\u001b[0m logging\u001b[38;5;241m.\u001b[39minfo(\u001b[38;5;124m\"\u001b[39m\u001b[38;5;124mClass distribution\u001b[39m\u001b[38;5;130;01m\\n\u001b[39;00m\u001b[38;5;132;01m{}\u001b[39;00m\u001b[38;5;124m\"\u001b[39m\u001b[38;5;241m.\u001b[39mformat(df\u001b[38;5;241m.\u001b[39mLabel\u001b[38;5;241m.\u001b[39mvalue_counts()))\n\u001b[1;32m      3\u001b[0m \u001b[38;5;28mprint\u001b[39m(df\u001b[38;5;241m.\u001b[39mLabel)\n",
      "\u001b[0;31mNameError\u001b[0m: name 'pd' is not defined"
     ]
    }
   ],
   "source": [
    "df = pd.read_csv(os.path.join(PROCESSED_DIR_PATH, 'test.csv'), skipinitialspace=True)\n",
    "logging.info(\"Class distribution\\n{}\".format(df.Label.value_counts()))\n",
    "print(df.Label)"
   ]
  },
  {
   "cell_type": "code",
   "execution_count": 16,
   "metadata": {},
   "outputs": [],
   "source": [
    "X, Y = preprocessing(df)\n",
    "del df\n",
    "X = reshape_dataset_cnn(X)"
   ]
  },
  {
   "cell_type": "code",
   "execution_count": 20,
   "metadata": {},
   "outputs": [
    {
     "ename": "NameError",
     "evalue": "name 'Y' is not defined",
     "output_type": "error",
     "traceback": [
      "\u001b[0;31m---------------------------------------------------------------------------\u001b[0m",
      "\u001b[0;31mNameError\u001b[0m                                 Traceback (most recent call last)",
      "Cell \u001b[0;32mIn[20], line 1\u001b[0m\n\u001b[0;32m----> 1\u001b[0m \u001b[38;5;28;01mdel\u001b[39;00m Y\n",
      "\u001b[0;31mNameError\u001b[0m: name 'Y' is not defined"
     ]
    }
   ],
   "source": [
    "del Y\n",
    "     "
   ]
  },
  {
   "cell_type": "code",
   "execution_count": 17,
   "metadata": {},
   "outputs": [
    {
     "data": {
      "text/plain": [
       "686"
      ]
     },
     "execution_count": 17,
     "metadata": {},
     "output_type": "execute_result"
    }
   ],
   "source": [
    "import gc\n",
    "gc.collect()"
   ]
  },
  {
   "cell_type": "code",
   "execution_count": null,
   "metadata": {},
   "outputs": [],
   "source": []
  }
 ],
 "metadata": {
  "kernelspec": {
   "display_name": "venv",
   "language": "python",
   "name": "python3"
  },
  "language_info": {
   "codemirror_mode": {
    "name": "ipython",
    "version": 3
   },
   "file_extension": ".py",
   "mimetype": "text/x-python",
   "name": "python",
   "nbconvert_exporter": "python",
   "pygments_lexer": "ipython3",
   "version": "3.9.6"
  }
 },
 "nbformat": 4,
 "nbformat_minor": 2
}
