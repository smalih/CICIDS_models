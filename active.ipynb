{
 "cells": [
  {
   "cell_type": "code",
   "execution_count": 1,
   "metadata": {},
   "outputs": [],
   "source": [
    "import os\n",
    "import logging\n",
    "import pandas as pd\n",
    "import numpy as np\n",
    "import matplotlib.pyplot as plt\n",
    "import tensorflow as tf\n",
    "\n",
    "from sklearn.preprocessing import LabelEncoder, MinMaxScaler\n",
    "from sklearn.model_selection import train_test_split\n",
    "from sklearn.metrics import classification_report\n",
    "\n",
    "from tensorflow.keras.callbacks import ModelCheckpoint\n",
    "from tensorflow.keras.utils import plot_model\n",
    "import tensorflow.keras as keras"
   ]
  },
  {
   "cell_type": "code",
   "execution_count": 2,
   "metadata": {},
   "outputs": [],
   "source": [
    "MODEL_DIR_PATH = \"/Users/smalih/CICIDS_models/my_model\"\n",
    "PROCESSED_DIR_PATH = \"/Users/smalih/CICIDS_models/processed_dataset\""
   ]
  },
  {
   "cell_type": "code",
   "execution_count": 3,
   "metadata": {},
   "outputs": [],
   "source": [
    "def preprocessing(df: pd.DataFrame) -> (np.ndarray, np.ndarray):\n",
    "    # Shuffle the dataset\n",
    "    df = df.sample(frac=1)\n",
    "\n",
    "    # Split features and labels\n",
    "    x = df.iloc[:, df.columns != 'Label']\n",
    "    y = df[['Label']].to_numpy()\n",
    "\n",
    "    # Scale the features between 0 ~ 1\n",
    "    scaler = np.load(os.path.join(PROCESSED_DIR_PATH, 'x_scaler.pkl'), allow_pickle=True)\n",
    "    x = scaler.fit_transform(x)\n",
    "\n",
    "    return x, y\n",
    "\n",
    "\n",
    "def reshape_dataset_cnn(x: np.ndarray) -> np.ndarray:\n",
    "    # Add padding columns\n",
    "    result = np.zeros((x.shape[0], 49)) # changed 81 to 49 as 48 features\n",
    "    result[:, :-1] = x # changed -3 to -1 as only one column is padding\n",
    "\n",
    "    # Reshaping dataset\n",
    "    result = np.reshape(result, (result.shape[0], 7, 7))\n",
    "    result = result[..., tf.newaxis]\n",
    "    return result\n"
   ]
  },
  {
   "cell_type": "code",
   "execution_count": 4,
   "metadata": {},
   "outputs": [],
   "source": [
    "def load_model(model_dir):\n",
    "    model = keras.models.load_model(os.path.join(model_dir, '06_cnn.h5'))\n",
    "    return model\n",
    "\n",
    "def load_data(data_path):\n",
    "    df = pd.read_csv(data_path)\n",
    "    # Split features and labels\n",
    "    scaler = MinMaxScaler()\n",
    "    x = scaler.fit_transform(df)\n",
    "    return reshape_dataset_cnn(x)\n"
   ]
  },
  {
   "cell_type": "code",
   "execution_count": 5,
   "metadata": {},
   "outputs": [],
   "source": [
    "def get_predictions(model, data, label_encoder):\n",
    "    y_pred = model.predict(data, batch_size=1024, verbose=False)\n",
    "    y_pred = label_encoder[np.argmax(y_pred, axis=1)]\n",
    "    return y_pred"
   ]
  },
  {
   "cell_type": "code",
   "execution_count": null,
   "metadata": {},
   "outputs": [],
   "source": []
  },
  {
   "cell_type": "code",
   "execution_count": 6,
   "metadata": {},
   "outputs": [
    {
     "name": "stderr",
     "output_type": "stream",
     "text": [
      "WARNING:absl:Compiled the loaded model, but the compiled metrics have yet to be built. `model.compile_metrics` will be empty until you train or evaluate the model.\n"
     ]
    }
   ],
   "source": [
    "X = load_data(\"/Users/smalih/CICIDS_models/dataset/data_collect.csv\")\n",
    "model = load_model(MODEL_DIR_PATH)"
   ]
  },
  {
   "cell_type": "code",
   "execution_count": 7,
   "metadata": {},
   "outputs": [
    {
     "name": "stdout",
     "output_type": "stream",
     "text": [
      "\u001b[1m22/22\u001b[0m \u001b[32m━━━━━━━━━━━━━━━━━━━━\u001b[0m\u001b[37m\u001b[0m \u001b[1m0s\u001b[0m 4ms/step\n"
     ]
    }
   ],
   "source": [
    "\n",
    "preds = model.predict(X)"
   ]
  },
  {
   "cell_type": "code",
   "execution_count": 8,
   "metadata": {},
   "outputs": [
    {
     "data": {
      "text/plain": [
       "array([[1.0000000e+00, 1.7522338e-20, 0.0000000e+00, ..., 3.0216349e-35,\n",
       "        0.0000000e+00, 0.0000000e+00],\n",
       "       [1.0000000e+00, 6.3934347e-20, 1.0639994e-37, ..., 1.7028457e-34,\n",
       "        7.7369655e-29, 1.1087574e-32],\n",
       "       [1.0000000e+00, 1.0086480e-13, 1.1419795e-22, ..., 1.0478001e-28,\n",
       "        1.0001425e-20, 4.3716058e-33],\n",
       "       ...,\n",
       "       [1.0000000e+00, 7.4887954e-24, 0.0000000e+00, ..., 0.0000000e+00,\n",
       "        0.0000000e+00, 0.0000000e+00],\n",
       "       [1.0000000e+00, 1.8535511e-23, 4.2009028e-29, ..., 3.9245816e-38,\n",
       "        0.0000000e+00, 0.0000000e+00],\n",
       "       [9.9999988e-01, 7.6940505e-22, 1.5032325e-33, ..., 5.8073453e-32,\n",
       "        1.9414780e-20, 2.5685375e-37]], dtype=float32)"
      ]
     },
     "execution_count": 8,
     "metadata": {},
     "output_type": "execute_result"
    }
   ],
   "source": [
    "preds"
   ]
  },
  {
   "cell_type": "code",
   "execution_count": 9,
   "metadata": {},
   "outputs": [
    {
     "name": "stdout",
     "output_type": "stream",
     "text": [
      "[[1.0000000e+00 1.7522338e-20 0.0000000e+00 ... 3.0216349e-35\n",
      "  0.0000000e+00 0.0000000e+00]\n",
      " [1.0000000e+00 6.3934347e-20 1.0639994e-37 ... 1.7028457e-34\n",
      "  7.7369655e-29 1.1087574e-32]\n",
      " [1.0000000e+00 1.0086480e-13 1.1419795e-22 ... 1.0478001e-28\n",
      "  1.0001425e-20 4.3716058e-33]\n",
      " ...\n",
      " [1.0000000e+00 7.4887954e-24 0.0000000e+00 ... 0.0000000e+00\n",
      "  0.0000000e+00 0.0000000e+00]\n",
      " [1.0000000e+00 1.8535511e-23 4.2009028e-29 ... 3.9245816e-38\n",
      "  0.0000000e+00 0.0000000e+00]\n",
      " [9.9999988e-01 7.6940505e-22 1.5032325e-33 ... 5.8073453e-32\n",
      "  1.9414780e-20 2.5685375e-37]]\n"
     ]
    }
   ],
   "source": [
    "print(preds)"
   ]
  },
  {
   "cell_type": "code",
   "execution_count": 10,
   "metadata": {},
   "outputs": [],
   "source": [
    "import sys\n",
    "\n",
    "np.set_printoptions(suppress=True)\n",
    "np.set_printoptions(threshold=sys.maxsize)"
   ]
  },
  {
   "cell_type": "code",
   "execution_count": 11,
   "metadata": {},
   "outputs": [
    {
     "name": "stdout",
     "output_type": "stream",
     "text": [
      "['BENIGN' 'Bot' 'DDoS' 'DoS GoldenEye' 'DoS Hulk' 'DoS Slowhttptest'\n",
      " 'DoS slowloris' 'FTP-Patator' 'Heartbleed' 'Infiltration' 'PortScan'\n",
      " 'SSH-Patator' 'Web Attack-Brute Force' 'Web Attack-Sql Injection'\n",
      " 'Web Attack-XSS']\n"
     ]
    }
   ],
   "source": [
    "label_encoder = np.load(os.path.join(PROCESSED_DIR_PATH, 'label_encoder.npy'), allow_pickle=True)\n",
    "\n",
    "print(label_encoder)"
   ]
  },
  {
   "cell_type": "code",
   "execution_count": 12,
   "metadata": {},
   "outputs": [],
   "source": [
    "preds = get_predictions(model, X, label_encoder)"
   ]
  },
  {
   "cell_type": "code",
   "execution_count": 13,
   "metadata": {},
   "outputs": [],
   "source": [
    "attacks = preds[preds != 'BENIGN']"
   ]
  },
  {
   "cell_type": "code",
   "execution_count": 14,
   "metadata": {},
   "outputs": [
    {
     "data": {
      "text/plain": [
       "array(['Heartbleed', 'Heartbleed', 'Heartbleed', 'DDoS', 'DoS slowloris',\n",
       "       'PortScan', 'DoS Hulk'], dtype=object)"
      ]
     },
     "execution_count": 14,
     "metadata": {},
     "output_type": "execute_result"
    }
   ],
   "source": [
    "attacks"
   ]
  },
  {
   "cell_type": "code",
   "execution_count": null,
   "metadata": {},
   "outputs": [],
   "source": []
  }
 ],
 "metadata": {
  "kernelspec": {
   "display_name": "venv",
   "language": "python",
   "name": "python3"
  },
  "language_info": {
   "codemirror_mode": {
    "name": "ipython",
    "version": 3
   },
   "file_extension": ".py",
   "mimetype": "text/x-python",
   "name": "python",
   "nbconvert_exporter": "python",
   "pygments_lexer": "ipython3",
   "version": "3.9.6"
  }
 },
 "nbformat": 4,
 "nbformat_minor": 2
}
